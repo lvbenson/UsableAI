{
 "cells": [
  {
   "cell_type": "markdown",
   "metadata": {},
   "source": [
    "# Homework 2 Code Guide\n",
    "In this guide, we will be connecting to the sqlite database created from the lecture, fill it with values, then run a few queries.\n",
    "<br>\n",
    "First, we need to import the correct library to use sqlite functions. "
   ]
  },
  {
   "cell_type": "code",
   "execution_count": 2,
   "metadata": {},
   "outputs": [],
   "source": [
    "import sqlite3\n",
    "import os"
   ]
  },
  {
   "cell_type": "markdown",
   "metadata": {},
   "source": [
    "Now we have our functions ready to go, let's get the current path and connect to our database. For `dbPath` variable, create a db with name `mydb.sqlite`."
   ]
  },
  {
   "cell_type": "code",
   "execution_count": 4,
   "metadata": {},
   "outputs": [],
   "source": [
    "path = os.getcwd()\n",
    "dbpath = 'mydb.sqlite'\n",
    "conn = sqlite3.connect(dbpath) "
   ]
  },
  {
   "cell_type": "markdown",
   "metadata": {},
   "source": [
    "Now connected, we can create our cursor variable using the `cursor()` function."
   ]
  },
  {
   "cell_type": "code",
   "execution_count": 5,
   "metadata": {},
   "outputs": [],
   "source": [
    "cur = conn.cursor()"
   ]
  },
  {
   "cell_type": "markdown",
   "metadata": {},
   "source": [
    "Using `cur`, we want to add in our new tables. However, if we add them multiple times, we will receive an error. So, we first need to `DROP` the tables if they exist already.<br>Enter your `DROP` queries below as an argument to the `execute` methods. Do this twice, once for the `stories` table and one for the `word_counts` table."
   ]
  },
  {
   "cell_type": "code",
   "execution_count": null,
   "metadata": {},
   "outputs": [],
   "source": [
    "drop_stories_query  = # Input DROP query for stories table here\n",
    "drop_info_query = # Input DROP query for information table here\n",
    "\n",
    "#Now we run both queries\n",
    "cur.execute(drop_stories_query)\n",
    "cur.execute(drop_info_query)"
   ]
  },
  {
   "cell_type": "markdown",
   "metadata": {},
   "source": [
    "We now have a clean slate set up to create our new tables! Now, design the queries to create new tables for `stories` and `word_counts`. <br>\n",
    "The `stories` table only needs a primary key `story_id` that is an integer and a text field called `story` to store the corrosoponding story text.\n",
    "<br>\n",
    "The `word_counts` table will need a little more. Please include the following:\n",
    "- `word_id`: primary key, integer\n",
    "- `word`: text\n",
    "- `count`: integer\n",
    "- `story_id`: integer, foreign key to `stories` table"
   ]
  },
  {
   "cell_type": "code",
   "execution_count": 40,
   "metadata": {},
   "outputs": [],
   "source": [
    "create_stories_query = # Insert CREATE TABLE query for stories table here\n",
    "create_info_query =  # Insert CREATE TABLE query for information table here\n",
    "cur.execute(create_stories_query)\n",
    "cur.execute(create_info_query)\n",
    "conn.commit()"
   ]
  },
  {
   "cell_type": "markdown",
   "metadata": {},
   "source": [
    "With our new empty tables ready, we can now loop through the stories and store the word counts.<br> Similar to how we looped through the stories in HW 1, we now have an additional step of inserting this data.<br>\n",
    "In the cell below, please add the two queries for inserting these data rows. <br><br>\n",
    "The first insert is for storing the story text in the `stories` table while reading from the file. The second insert is after counting up all the words, and is for inserting those values into the `word_counts` table. Remember to pass these query string variables into the `execute()` methods."
   ]
  },
  {
   "cell_type": "code",
   "execution_count": null,
   "metadata": {},
   "outputs": [],
   "source": [
    "stories = [\"/story-1.txt\", \"/story-2.txt\"]\n",
    "\n",
    "for story in stories:\n",
    "    words = []\n",
    "    count_of_each_word = {}\n",
    "    story_id = \"\"\n",
    "    try:\n",
    "        # Open the file\n",
    "        with open(path + story, encoding='utf-8') as fp:\n",
    "            # reading data from file and splitting into words\n",
    "            # and storing them in a list\n",
    "            story_text = fp.read()\n",
    "            \n",
    "            # For the below query, you will need to use a '?' to\n",
    "            #     represent where you want the story_text to be inputed.\n",
    "            #     The actual text in story_text is passed in a tuple as \n",
    "            #     second parameter of the execute command().\n",
    "            \n",
    "            insert_story_query = # Input INSERT query for the stories table here\n",
    "            cur.execute(insert_story_query, (story_text,))\n",
    "            \n",
    "            #Grabbing the last id inserted, so we can use it when inserting values into the word_counts table\n",
    "            story_id = cur.lastrowid\n",
    "            conn.commit()\n",
    "            words = story_text.split()\n",
    "            \n",
    "            # Close the file\n",
    "            fp.close()\n",
    "            \n",
    "    except Exception as e:\n",
    "        print(\"Unable to open the file: \" + str(e))\n",
    "\n",
    "    # Just like before, we are iterating over each word and using a dictonary to store the word counts\n",
    "    for word in words:\n",
    "        if(word in count_of_each_word):\n",
    "            count_of_each_word[word] += 1\n",
    "        else:\n",
    "            count_of_each_word[word] = 1\n",
    "\n",
    "    for key in count_of_each_word:\n",
    "        insert_count_query = # Input query here, using '?' again in the VALUES () portion\n",
    "        \n",
    "        cur.execute(insert_count_query, (key, count_of_each_word[key], story_id))\n",
    "        conn.commit()\n"
   ]
  },
  {
   "cell_type": "markdown",
   "metadata": {},
   "source": [
    "Finally! Our tables are filled and we can now run SELECT queries against it to pull the data we want. There are two queries you will need to run. \n",
    "### SELECT Query One: \n",
    "Grab all rows from `word_counts` where the word is \"the\" and the count is greater than 1."
   ]
  },
  {
   "cell_type": "code",
   "execution_count": null,
   "metadata": {},
   "outputs": [],
   "source": [
    "query_one = #Input SELECT query one here\n",
    "cur.execute(query_one)\n",
    "records = cur.fetchall()\n",
    "for record in records:\n",
    "    print(record)\n",
    "    \n"
   ]
  },
  {
   "cell_type": "markdown",
   "metadata": {},
   "source": [
    "### SELECT Query Two: \n",
    "Grab the `story_id`, `story`, and `count` columns where the word is \"the\". You should use a JOIN statement for this query, and only need to include `story_id` from one table."
   ]
  },
  {
   "cell_type": "code",
   "execution_count": null,
   "metadata": {},
   "outputs": [],
   "source": [
    "query_two = #Input SELECT query two here\n",
    "cur.execute(query_two)\n",
    "records = cur.fetchall()\n",
    "for record in records:\n",
    "    print(record)"
   ]
  }
 ],
 "metadata": {
  "kernelspec": {
   "display_name": "Python 3",
   "language": "python",
   "name": "python3"
  },
  "language_info": {
   "codemirror_mode": {
    "name": "ipython",
    "version": 3
   },
   "file_extension": ".py",
   "mimetype": "text/x-python",
   "name": "python",
   "nbconvert_exporter": "python",
   "pygments_lexer": "ipython3",
   "version": "3.7.3-final"
  }
 },
 "nbformat": 4,
 "nbformat_minor": 4
}