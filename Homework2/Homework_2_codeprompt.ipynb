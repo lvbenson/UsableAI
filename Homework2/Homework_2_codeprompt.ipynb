{
 "metadata": {
  "language_info": {
   "codemirror_mode": {
    "name": "ipython",
    "version": 3
   },
   "file_extension": ".py",
   "mimetype": "text/x-python",
   "name": "python",
   "nbconvert_exporter": "python",
   "pygments_lexer": "ipython3",
   "version": "3.7.3-final"
  },
  "orig_nbformat": 2,
  "kernelspec": {
   "name": "python3",
   "display_name": "Python 3",
   "language": "python"
  }
 },
 "nbformat": 4,
 "nbformat_minor": 2,
 "cells": [
  {
   "source": [
    "Create a ‘stories’ table for storing the story that is read from file in the following attributes. The story_id attribute is just a primary key and stores a unique integer value. The words attribute is used to store the story read from text file.\n",
    "\n",
    "                 story_id(INTEGER, PK), words(Text)"
   ],
   "cell_type": "markdown",
   "metadata": {}
  },
  {
   "cell_type": "code",
   "execution_count": 10,
   "metadata": {},
   "outputs": [],
   "source": [
    "import sqlite3\n",
    "\n",
    "stories_files = [\"/story-1.txt\", \"/story-2.txt\",\"/story-3.txt\",\"/story-4.txt\"]\n",
    "dir = \"C:/Users/benso/Desktop/Projects/UsableAI/Homework1\"\n",
    "\n",
    "db = 'mydb.sqlite3'\n",
    "conn = sqlite3.connect(db)\n",
    "cur = conn.cursor()\n",
    "\n",
    "cur.executescript('DROP TABLE IF EXISTS Stories')\n",
    "\n",
    "cur.executescript(\"\"\"\n",
    "CREATE TABLE Stories(\n",
    "    story_id INTEGER PRIMARY KEY,\n",
    "    words TEXT UNIQUE\n",
    ");\n",
    "\"\"\")\n",
    "\n",
    "conn.commit()\n",
    "\n"
   ]
  },
  {
   "cell_type": "code",
   "execution_count": 11,
   "metadata": {},
   "outputs": [
    {
     "output_type": "stream",
     "name": "stdout",
     "text": [
      "(1, 'The Monkey and the Crocodile:\\n\\nOnce upon a time, in a forest, there lived a monkey who resided on a jamoon (berry) tree, which was on the banks of a river. In the same forest, there lived a crocodile and his wife. One day, the crocodile came to the banks of the river and rested under the tree. The kindhearted monkey offered him some fruits. The crocodile came back the next day for more fruits, as he loved them. As days passed by, the crocodile and the monkey became good friends.\\n\\nOne day, the monkey sent some fruits for the crocodile’s wife. She ate the fruits and liked them, but was jealous, as she didn’t like her husband spending time with the monkey. She told her husband, “If the fruits are so juicy, I wonder how sweet the monkey’s heart would be. Get me the heart of the monkey.” The crocodile was not willing to kill his friend, but had no choice.\\n\\nHe invited the monkey to his house for dinner and that his wife would like to meet him. The monkey was happy, but couldn’t swim, so the crocodile took him on his back. The crocodile was happy that he had tricked the monkey, however, while talking, he blurted out the real reason for taking the monkey home. The clever monkey said, “You should have told me earlier, I left my heart on the tree. We must go back and get it.” The crocodile believed him and took him back to the tree. Thus, the clever monkey saved his life.\\n')\n(2, 'The Musical Donkey\\n\\nA washer man’s donkey would be free to graze on the green field, after a hard day’s work. Instead of staying on the field, he would sneak into the villagers’ farms and eat the vegetables growing, before sneaking back home. The donkey met a jackal, and they became good friends. They decided to hunt together, and the fat donkey would break the fence to eat vegetables, while the jackal hunted the farm animals. One night, the donkey told the jackal that he felt like singing. The jackal pleaded with him not to sing, as they would get caught. However, the donkey got annoyed and insisted on singing. He opened his mouth and began to bray loudly, and the jackal immediately ran away. The farmers, on hearing the donkey bray, came rushing out and thrashed him for eating their vegetables. The farmers tied a mortar on the donkey, and as he walked home, the jackal joked about the farmers gifting the donkey a necklace for his singing.\\n\\nMoral of the Story: There is a time and place for everything.\\n\\nYou can narrate these Panchatantra stories to explain moral values to children. For example, Panchatantra stories on discipline, friendship, strength, intelligence and other virtues, can make children understand what these morals stand for, and their impact on their daily lives. These stories can also help in your child’s linguistic and cognitive development. To further develop your child’s qualities, get him a kid’s activity subscription kit that contains fun and interesting activities. By trying out these activities, your child can enhance his/her other skills as well.\\n')\n(3, 'A Tale of Three Fish\\n\\nIn a lake, there were three fish who were great friends. The first fish was very smart, the second one knew how to find his way out of trouble, and the third was adamant and hated changes. The first fish overheard a fisherman’s conversation about coming back the next day and fishing in the lake. Sensing danger, he cautioned his friends to move out of the lake. The second fish said, “I will stay here and find a way out if I’m caught.” The third fish said, “I do not want to move out. I will remain here, and if I have to get caught, I will.” The first fish moved out. The next day, the fisherman arrived and caught the other two fish. The second one cleverly escaped by pretending to be dead. The third fish did nothing and got caught and died.\\n\\nMoral of the Story: One should always be open to change and adapt accordingly. Take immediate action when you sense danger.\\n')\n(4, 'The Foolish Lion and the Clever Rabbit\\n\\nOnce upon a time, there lived a greedy lion who attacked and killed animals, because of which every animal in the jungle was very afraid of him. One day, they decided that each animal would go to the lion, per day, as his prey. The lion agreed. When it was the rabbit’s turn, they decided to send the wise old one. He travelled slowly and reached the lion’s den before sunset. The lion furiously asked him, “Why are you so late?” The rabbit answered, ”A group of rabbits were coming to you, but on their way, the others were attacked by another ferocious lion. I managed to escape and came here.” The rabbit also mentioned that the other lion was challenging this one.\\n\\nThe lion was extremely angry and asked the rabbit to take him to meet the new lion. The wise rabbit took the lion to a deep well, and showed him his own reflection. As the lion growled, his reflection did the same. He considered this reflection to be his enemy. The enraged lion jumped into the well to attack the other lion, and ended up dying. Thus, the wise old rabbit saved himself, and all the animals in the forest.\\n\\nMoral of the Story: One must always focus on solutions, rather than problems.\\n')\n"
     ]
    }
   ],
   "source": [
    "for story in stories_files:\n",
    "    with open(dir + story, encoding='utf-8') as fp:\n",
    "        story_text = fp.read()\n",
    "\n",
    "        insert_story_query = 'INSERT INTO Stories(words) VALUES(?)'\n",
    "\n",
    "        cur.execute(insert_story_query, (story_text,))  \n",
    "        conn.commit()\n",
    "\n",
    "        fp.close()\n",
    "\n",
    "cur = conn.cursor()\n",
    "cur.execute(\"SELECT story_id, words FROM Stories\")\n",
    "item_list = cur.fetchall()\n",
    "\n",
    "for it in item_list:\n",
    "    print(it)\n"
   ]
  },
  {
   "source": [
    "2\n",
    "Create a ‘word_counts’ table to store the word counts calculated. The word_count_id attribute is the primary key and stores a unique integer value. The word attribute stores the string word the count is for (the dictionary key), and the count attribute stores the corresponding value (the dictionary value). The story_id attribute in this table refers to story_id present in stories table.\n",
    "\n",
    "word_count_id(INTEGER, PK), word(text), count(INTEGER), story_id(INTEGER, FK)"
   ],
   "cell_type": "markdown",
   "metadata": {}
  },
  {
   "cell_type": "code",
   "execution_count": 13,
   "metadata": {},
   "outputs": [],
   "source": [
    "conn = sqlite3.connect(db)\n",
    "cur = conn.cursor()\n",
    "\n",
    "cur.executescript('DROP TABLE IF EXISTS word_count_stories')\n",
    "\n",
    "cur.executescript(\"\"\"\n",
    "CREATE TABLE word_count_stories(\n",
    "    word_count_id INTEGER PRIMARY KEY,\n",
    "    word TEXT UNIQUE,\n",
    "    count INTEGER,\n",
    "    story_id INTEGER\n",
    ");\n",
    "\"\"\")\n",
    "\n",
    "conn.commit()\n",
    "\n",
    "\n",
    "\n"
   ]
  },
  {
   "cell_type": "code",
   "execution_count": 28,
   "metadata": {},
   "outputs": [
    {
     "output_type": "stream",
     "name": "stdout",
     "text": [
      "1\n2\n3\n4\n('The', 1)\n('Monkey', 2)\n('and', 3)\n('the', 4)\n('Crocodile:', 5)\n('Once', 6)\n('upon', 7)\n('a', 8)\n('time,', 9)\n('in', 10)\n('forest,', 11)\n('there', 12)\n('lived', 13)\n('monkey', 14)\n('who', 15)\n('resided', 16)\n('on', 17)\n('jamoon', 18)\n('(berry)', 19)\n('tree,', 20)\n('which', 21)\n('was', 22)\n('banks', 23)\n('of', 24)\n('river.', 25)\n('In', 26)\n('same', 27)\n('crocodile', 28)\n('his', 29)\n('wife.', 30)\n('One', 31)\n('day,', 32)\n('came', 33)\n('to', 34)\n('river', 35)\n('rested', 36)\n('under', 37)\n('tree.', 38)\n('kindhearted', 39)\n('offered', 40)\n('him', 41)\n('some', 42)\n('fruits.', 43)\n('back', 44)\n('next', 45)\n('day', 46)\n('for', 47)\n('more', 48)\n('fruits,', 49)\n('as', 50)\n('he', 51)\n('loved', 52)\n('them.', 53)\n('As', 54)\n('days', 55)\n('passed', 56)\n('by,', 57)\n('became', 58)\n('good', 59)\n('friends.', 60)\n('sent', 61)\n('fruits', 62)\n('crocodile’s', 63)\n('She', 64)\n('ate', 65)\n('liked', 66)\n('them,', 67)\n('but', 68)\n('jealous,', 69)\n('she', 70)\n('didn’t', 71)\n('like', 72)\n('her', 73)\n('husband', 74)\n('spending', 75)\n('time', 76)\n('with', 77)\n('monkey.', 78)\n('told', 79)\n('husband,', 80)\n('“If', 81)\n('are', 82)\n('so', 83)\n('juicy,', 84)\n('I', 85)\n('wonder', 86)\n('how', 87)\n('sweet', 88)\n('monkey’s', 89)\n('heart', 90)\n('would', 91)\n('be.', 92)\n('Get', 93)\n('me', 94)\n('monkey.”', 95)\n('not', 96)\n('willing', 97)\n('kill', 98)\n('friend,', 99)\n('had', 100)\n('no', 101)\n('choice.', 102)\n('He', 103)\n('invited', 104)\n('house', 105)\n('dinner', 106)\n('that', 107)\n('wife', 108)\n('meet', 109)\n('him.', 110)\n('happy,', 111)\n('couldn’t', 112)\n('swim,', 113)\n('took', 114)\n('back.', 115)\n('happy', 116)\n('tricked', 117)\n('monkey,', 118)\n('however,', 119)\n('while', 120)\n('talking,', 121)\n('blurted', 122)\n('out', 123)\n('real', 124)\n('reason', 125)\n('taking', 126)\n('home.', 127)\n('clever', 128)\n('said,', 129)\n('“You', 130)\n('should', 131)\n('have', 132)\n('earlier,', 133)\n('left', 134)\n('my', 135)\n('We', 136)\n('must', 137)\n('go', 138)\n('get', 139)\n('it.”', 140)\n('believed', 141)\n('Thus,', 142)\n('saved', 143)\n('life.', 144)\n"
     ]
    }
   ],
   "source": [
    "stories_files = [\"/story-1.txt\", \"/story-2.txt\",\"/story-3.txt\",\"/story-4.txt\"]\n",
    "dir = \"C:/Users/benso/Desktop/Projects/UsableAI/Homework1\"\n",
    "\n",
    "\n",
    "story_id_count = ['1','2','3','4']\n",
    "for story,c in zip(stories_files,story_id_count):\n",
    "    word_counts = {}\n",
    "    words = []\n",
    "    \n",
    "\n",
    "    with open(dir + story, encoding='utf-8') as fp:\n",
    "        story_text = fp.read()\n",
    "\n",
    "        words = story_text.split()\n",
    "        \n",
    "        fp.close()\n",
    "    #print(words)\n",
    "    for w in words:\n",
    "        if word.isalpha() == True:\n",
    "            if(w in word_counts):\n",
    "                word_counts[w] += 1\n",
    "            else:\n",
    "                word_counts[w] = 1\n",
    "    #print(word_counts)\n",
    "\n",
    "    for key in word_counts: #\n",
    "        insert_words_query = 'INSERT INTO word_count_stories(word,count,story_id) VALUES(?,?,?)'\n",
    "\n",
    "        cur.execute(insert_words_query, (key,word_counts[key],c))\n",
    "        conn.commit()\n",
    "        print(c)\n",
    "    \n",
    "    \n",
    "\n",
    "cur = conn.cursor()\n",
    "cur.execute(\"SELECT word, story_id FROM word_count_stories\")\n",
    "item_list = cur.fetchall()\n",
    "\n",
    "for it in item_list:\n",
    "    print(it)"
   ]
  },
  {
   "cell_type": "code",
   "execution_count": 6,
   "metadata": {},
   "outputs": [
    {
     "output_type": "error",
     "ename": "IntegrityError",
     "evalue": "UNIQUE constraint failed: word_count_stories.word",
     "traceback": [
      "\u001b[1;31m---------------------------------------------------------------------------\u001b[0m",
      "\u001b[1;31mIntegrityError\u001b[0m                            Traceback (most recent call last)",
      "\u001b[1;32m<ipython-input-6-27953844afab>\u001b[0m in \u001b[0;36m<module>\u001b[1;34m\u001b[0m\n\u001b[0;32m     20\u001b[0m         \u001b[0minsert_words_query\u001b[0m \u001b[1;33m=\u001b[0m \u001b[1;34m'INSERT INTO word_count_stories(word,count,story_id) VALUES(?,?,?)'\u001b[0m\u001b[1;33m\u001b[0m\u001b[1;33m\u001b[0m\u001b[0m\n\u001b[0;32m     21\u001b[0m \u001b[1;33m\u001b[0m\u001b[0m\n\u001b[1;32m---> 22\u001b[1;33m         \u001b[0mcur\u001b[0m\u001b[1;33m.\u001b[0m\u001b[0mexecute\u001b[0m\u001b[1;33m(\u001b[0m\u001b[0minsert_words_query\u001b[0m\u001b[1;33m,\u001b[0m \u001b[1;33m(\u001b[0m\u001b[0mkey\u001b[0m\u001b[1;33m,\u001b[0m\u001b[0mword_counts\u001b[0m\u001b[1;33m[\u001b[0m\u001b[0mkey\u001b[0m\u001b[1;33m]\u001b[0m\u001b[1;33m,\u001b[0m\u001b[0mcount\u001b[0m\u001b[1;33m)\u001b[0m\u001b[1;33m)\u001b[0m\u001b[1;33m\u001b[0m\u001b[1;33m\u001b[0m\u001b[0m\n\u001b[0m\u001b[0;32m     23\u001b[0m         \u001b[0mconn\u001b[0m\u001b[1;33m.\u001b[0m\u001b[0mcommit\u001b[0m\u001b[1;33m(\u001b[0m\u001b[1;33m)\u001b[0m\u001b[1;33m\u001b[0m\u001b[1;33m\u001b[0m\u001b[0m\n\u001b[0;32m     24\u001b[0m         \u001b[0mcount\u001b[0m \u001b[1;33m+=\u001b[0m \u001b[1;36m1\u001b[0m\u001b[1;33m\u001b[0m\u001b[1;33m\u001b[0m\u001b[0m\n",
      "\u001b[1;31mIntegrityError\u001b[0m: UNIQUE constraint failed: word_count_stories.word"
     ]
    }
   ],
   "source": [
    "count=1\n",
    "for story in stories_files:\n",
    "    word_counts = {}\n",
    "    words = []\n",
    "    \n",
    "\n",
    "    with open(dir + story, encoding='utf-8') as fp:\n",
    "        story_text = fp.read()\n",
    "\n",
    "        words = story_text.split()\n",
    "        fp.close()\n",
    "\n",
    "    for w in words:\n",
    "        if(w in word_counts):\n",
    "            word_counts[w] += 1\n",
    "        else:\n",
    "            word_counts[w] = 1\n",
    "\n",
    "    for key in word_counts: #\n",
    "        insert_words_query = 'INSERT INTO word_count_stories(word,count,story_id) VALUES(?,?,?)'\n",
    "\n",
    "        cur.execute(insert_words_query, (key,word_counts[key],count))\n",
    "        conn.commit()\n",
    "        count += 1\n",
    "\n",
    "cur = conn.cursor()\n",
    "cur.execute(\"SELECT word_count_id, word, count FROM word_count_stories\")\n",
    "item_list = cur.fetchall()\n",
    "\n",
    "for it in item_list:\n",
    "    print(it)"
   ]
  },
  {
   "cell_type": "code",
   "execution_count": null,
   "metadata": {},
   "outputs": [],
   "source": []
  }
 ]
}