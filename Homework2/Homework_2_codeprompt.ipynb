{
 "metadata": {
  "language_info": {
   "codemirror_mode": {
    "name": "ipython",
    "version": 3
   },
   "file_extension": ".py",
   "mimetype": "text/x-python",
   "name": "python",
   "nbconvert_exporter": "python",
   "pygments_lexer": "ipython3",
   "version": "3.7.3-final"
  },
  "orig_nbformat": 2,
  "kernelspec": {
   "name": "python3",
   "display_name": "Python 3",
   "language": "python"
  }
 },
 "nbformat": 4,
 "nbformat_minor": 2,
 "cells": [
  {
   "source": [
    "Create a ‘stories’ table for storing the story that is read from file in the following attributes. The story_id attribute is just a primary key and stores a unique integer value. The words attribute is used to store the story read from text file.\n",
    "\n",
    "                 story_id(INTEGER, PK), words(Text)"
   ],
   "cell_type": "markdown",
   "metadata": {}
  },
  {
   "cell_type": "code",
   "execution_count": 25,
   "metadata": {},
   "outputs": [
    {
     "output_type": "error",
     "ename": "OperationalError",
     "evalue": "table Stories already exists",
     "traceback": [
      "\u001b[1;31m---------------------------------------------------------------------------\u001b[0m",
      "\u001b[1;31mOperationalError\u001b[0m                          Traceback (most recent call last)",
      "\u001b[1;32m<ipython-input-25-a6011bdfa595>\u001b[0m in \u001b[0;36m<module>\u001b[1;34m\u001b[0m\n\u001b[0;32m     15\u001b[0m     \u001b[0mwords\u001b[0m \u001b[0mTEXT\u001b[0m \u001b[0mUNIQUE\u001b[0m\u001b[1;33m\u001b[0m\u001b[1;33m\u001b[0m\u001b[0m\n\u001b[0;32m     16\u001b[0m );\n\u001b[1;32m---> 17\u001b[1;33m \"\"\")\n\u001b[0m\u001b[0;32m     18\u001b[0m \u001b[1;33m\u001b[0m\u001b[0m\n\u001b[0;32m     19\u001b[0m \u001b[0mconn\u001b[0m\u001b[1;33m.\u001b[0m\u001b[0mcommit\u001b[0m\u001b[1;33m(\u001b[0m\u001b[1;33m)\u001b[0m\u001b[1;33m\u001b[0m\u001b[1;33m\u001b[0m\u001b[0m\n",
      "\u001b[1;31mOperationalError\u001b[0m: table Stories already exists"
     ]
    }
   ],
   "source": [
    "import sqlite3\n",
    "\n",
    "stories_files = [\"/story-1.txt\", \"/story-2.txt\",\"/story-3.txt\",\"/story-4.txt\"]\n",
    "dir = \"C:/Users/benso/Desktop/Projects/UsableAI/Homework1\"\n",
    "\n",
    "db = 'newdb.sqlite3'\n",
    "conn = sqlite3.connect(db)\n",
    "cur = conn.cursor()\n",
    "\n",
    "cur.executescript('DROP TABLE IF EXISTS items')\n",
    "\n",
    "cur.executescript(\"\"\"\n",
    "CREATE TABLE Stories(\n",
    "    story_id INTEGER PRIMARY KEY,\n",
    "    words TEXT UNIQUE\n",
    ");\n",
    "\"\"\")\n",
    "\n",
    "conn.commit()\n",
    "\n",
    "for story in stories_files:\n",
    "    with open(dir + story, encoding='utf-8') as fp:\n",
    "        story_text = fp.read()\n",
    "\n",
    "        insert_story_query = 'INSERT INTO Stories(words) VALUES(?)'\n",
    "\n",
    "        cur.execute(insert_story_query, (story_text,))  \n",
    "        conn.commit()\n",
    "\n",
    "        fp.close()\n",
    "\n",
    "cur = conn.cursor()\n",
    "cur.execute(\"SELECT story_id, words FROM Stories\")\n",
    "item_list = cur.fetchall()\n",
    "\n",
    "for it in item_list:\n",
    "    print(it)\n",
    "\n"
   ]
  },
  {
   "cell_type": "code",
   "execution_count": 24,
   "metadata": {},
   "outputs": [
    {
     "output_type": "error",
     "ename": "IntegrityError",
     "evalue": "UNIQUE constraint failed: stories.words",
     "traceback": [
      "\u001b[1;31m---------------------------------------------------------------------------\u001b[0m",
      "\u001b[1;31mIntegrityError\u001b[0m                            Traceback (most recent call last)",
      "\u001b[1;32m<ipython-input-24-e36d4a5daec8>\u001b[0m in \u001b[0;36m<module>\u001b[1;34m\u001b[0m\n\u001b[0;32m      5\u001b[0m         \u001b[0minsert_story_query\u001b[0m \u001b[1;33m=\u001b[0m \u001b[1;34m'INSERT INTO Stories(words) VALUES(?)'\u001b[0m\u001b[1;33m\u001b[0m\u001b[1;33m\u001b[0m\u001b[0m\n\u001b[0;32m      6\u001b[0m \u001b[1;33m\u001b[0m\u001b[0m\n\u001b[1;32m----> 7\u001b[1;33m         \u001b[0mcur\u001b[0m\u001b[1;33m.\u001b[0m\u001b[0mexecute\u001b[0m\u001b[1;33m(\u001b[0m\u001b[0minsert_story_query\u001b[0m\u001b[1;33m,\u001b[0m \u001b[1;33m(\u001b[0m\u001b[0mstory_text\u001b[0m\u001b[1;33m,\u001b[0m\u001b[1;33m)\u001b[0m\u001b[1;33m)\u001b[0m\u001b[1;33m\u001b[0m\u001b[1;33m\u001b[0m\u001b[0m\n\u001b[0m\u001b[0;32m      8\u001b[0m         \u001b[0mconn\u001b[0m\u001b[1;33m.\u001b[0m\u001b[0mcommit\u001b[0m\u001b[1;33m(\u001b[0m\u001b[1;33m)\u001b[0m\u001b[1;33m\u001b[0m\u001b[1;33m\u001b[0m\u001b[0m\n\u001b[0;32m      9\u001b[0m \u001b[1;33m\u001b[0m\u001b[0m\n",
      "\u001b[1;31mIntegrityError\u001b[0m: UNIQUE constraint failed: stories.words"
     ]
    }
   ],
   "source": []
  },
  {
   "source": [
    "2\n",
    "Create a ‘word_counts’ table to store the word counts calculated. The word_count_id attribute is the primary key and stores a unique integer value. The word attribute stores the string word the count is for (the dictionary key), and the count attribute stores the corresponding value (the dictionary value). The story_id attribute in this table refers to story_id present in stories table.\n",
    "\n",
    "word_count_id(INTEGER, PK), word(text), count(INTEGER), story_id(INTEGER, FK)"
   ],
   "cell_type": "markdown",
   "metadata": {}
  },
  {
   "cell_type": "code",
   "execution_count": null,
   "metadata": {},
   "outputs": [],
   "source": [
    "conn = sqlite3.connect(db)\n",
    "cur = conn.cursor()\n",
    "\n",
    "cur.executescript('DROP TABLE IF EXISTS word_counts')\n",
    "\n",
    "cur.executescript(\"\"\"\n",
    "CREATE TABLE word_counts(\n",
    "    word_count_id INTEGER PRIMARY KEY,\n",
    "    word TEXT UNIQUE,\n",
    "    count INTEGER,\n",
    "    story_idk INTEGER PRIMARY KEY\n",
    ");\n",
    "\"\"\")\n",
    "\n",
    "for story in stories_files:\n",
    "    with open(dir + story, encoding='utf-8') as fp:\n",
    "        story_text = fp.read()"
   ]
  }
 ]
}