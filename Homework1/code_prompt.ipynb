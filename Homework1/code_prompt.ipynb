{
 "metadata": {
  "language_info": {
   "codemirror_mode": {
    "name": "ipython",
    "version": 3
   },
   "file_extension": ".py",
   "mimetype": "text/x-python",
   "name": "python",
   "nbconvert_exporter": "python",
   "pygments_lexer": "ipython3",
   "version": "3.7.3-final"
  },
  "orig_nbformat": 2,
  "kernelspec": {
   "name": "python3",
   "display_name": "Python 3",
   "language": "python"
  }
 },
 "nbformat": 4,
 "nbformat_minor": 2,
 "cells": [
  {
   "cell_type": "code",
   "execution_count": 46,
   "metadata": {},
   "outputs": [],
   "source": [
    "import numpy as np \n",
    "import os \n",
    "import pandas as pd "
   ]
  },
  {
   "cell_type": "code",
   "execution_count": 51,
   "metadata": {},
   "outputs": [],
   "source": [
    "#The python script should read the data from text file\n",
    "\n",
    "data = open(\"C:/Users/benso/Desktop/Projects/UsableAI/Homework1/story-1.txt\", encoding='utf-8')"
   ]
  },
  {
   "cell_type": "code",
   "execution_count": 52,
   "metadata": {},
   "outputs": [
    {
     "output_type": "stream",
     "name": "stdout",
     "text": [
      "{'the': 34, 'monkey': 10, 'and': 8, 'once': 1, 'upon': 1, 'a': 6, 'in': 2, 'there': 2, 'lived': 2, 'who': 1, 'resided': 1, 'on': 4, 'jamoon': 1, 'which': 1, 'was': 5, 'banks': 2, 'of': 3, 'same': 1, 'crocodile': 8, 'his': 6, 'one': 2, 'came': 2, 'to': 5, 'river': 1, 'rested': 1, 'under': 1, 'kindhearted': 1, 'offered': 1, 'him': 4, 'some': 2, 'back': 3, 'next': 1, 'day': 1, 'for': 4, 'more': 1, 'as': 3, 'he': 4, 'loved': 1, 'days': 1, 'passed': 1, 'became': 1, 'good': 1, 'sent': 1, 'fruits': 3, 'she': 3, 'ate': 1, 'liked': 1, 'but': 3, 'like': 2, 'her': 2, 'husband': 1, 'spending': 1, 'time': 1, 'with': 1, 'told': 2, 'are': 1, 'so': 2, 'i': 2, 'wonder': 1, 'how': 1, 'sweet': 1, 'heart': 3, 'would': 2, 'get': 2, 'me': 2, 'not': 1, 'willing': 1, 'kill': 1, 'had': 2, 'no': 1, 'invited': 1, 'house': 1, 'dinner': 1, 'that': 2, 'wife': 1, 'meet': 1, 'took': 2, 'happy': 1, 'tricked': 1, 'while': 1, 'blurted': 1, 'out': 1, 'real': 1, 'reason': 1, 'taking': 1, 'clever': 2, 'should': 1, 'have': 1, 'left': 1, 'my': 1, 'we': 1, 'must': 1, 'go': 1, 'believed': 1, 'saved': 1}\n"
     ]
    }
   ],
   "source": [
    "#Count the occurrence of each word present in that text file\n",
    "#Consider pure alphabetical words only (like crocodile, rat). Ignore the words like “crocodile5”, “rat10” etc..\n",
    "\n",
    "words = data.read().lower().split() #splits text file into words\n",
    "word_counts = {}\n",
    "\n",
    "for word in words:\n",
    "    if word.isalpha() == True:\n",
    "        if word in word_counts:\n",
    "            word_counts[word] += 1\n",
    "        else:\n",
    "            word_counts[word] = 1\n",
    "print(word_counts)\n",
    "\n",
    "\n",
    "\n",
    "\n"
   ]
  },
  {
   "cell_type": "code",
   "execution_count": 53,
   "metadata": {},
   "outputs": [],
   "source": [
    "def counting_words(txtfile,storynum):\n",
    "    data = open(txtfile, encoding='utf-8')\n",
    "    words = data.read().lower().split() #splits text file into words\n",
    "    data.close()\n",
    "    word_counts = {}\n",
    "\n",
    "    for word in words:\n",
    "        if word.isalpha() == True:\n",
    "            if word in word_counts:\n",
    "                word_counts[word] += 1\n",
    "            else:\n",
    "                word_counts[word] = 1\n",
    "    newdat = str(word_counts)\n",
    "\n",
    "    newfile = open(\"C:/Users/benso/Desktop/Projects/UsableAI/Homework1/story-\"+str(storynum)+\"_words.txt\",\"w\")\n",
    "\n",
    "    newfile.write(newdat)\n",
    "for num in range(1,5):\n",
    "    counting_words(\"C:/Users/benso/Desktop/Projects/UsableAI/Homework1/story-\"+str(num)+\".txt\",num)"
   ]
  },
  {
   "cell_type": "code",
   "execution_count": null,
   "metadata": {},
   "outputs": [],
   "source": []
  }
 ]
}