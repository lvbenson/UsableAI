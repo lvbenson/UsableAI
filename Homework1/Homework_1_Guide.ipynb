{
 "cells": [
  {
   "cell_type": "markdown",
   "metadata": {},
   "source": [
    "# Homework 1 Code Guide \n",
    "In this guide, we will be getting more experienced with python through file processing. With this guide, you will be able to:\n",
    "- read from a text (.txt) file\n",
    "- process the words of the file\n",
    "- output the result of this process\n",
    "\n",
    "To begin, we will first need to make sure the functions (set of instructions) we need to use are included in this file. We'll do this through an import statement, followed by the libraries we need. In this case, we will use the `os` library. In the cell below, type the library name where the `_` is. In the remainder of this guide, you will be filling in some value where ever a `_` is."
   ]
  },
  {
   "cell_type": "code",
   "execution_count": 1,
   "metadata": {},
   "outputs": [],
   "source": [
    "# TODO - Enter Library Name\n",
    "import os"
   ]
  },
  {
   "cell_type": "markdown",
   "metadata": {},
   "source": [
    "Next, we'll need to put the text files in a known location. The cell below prints out the current path, place the text files in this directory to ensure they are found by your script."
   ]
  },
  {
   "cell_type": "code",
   "execution_count": 2,
   "metadata": {},
   "outputs": [
    {
     "output_type": "stream",
     "name": "stdout",
     "text": [
      "c:\\Users\\benso\\Desktop\\Projects\\UsableAI\\Homework1\n"
     ]
    }
   ],
   "source": [
    "# Getting the current path and displaying it\n",
    "path = os.getcwd()\n",
    "print(path)"
   ]
  },
  {
   "cell_type": "markdown",
   "metadata": {},
   "source": [
    "With your files placed at the designated location, we can now create a list of the files names to individually loop through. <br> Notice stories is a `list`, as it is assigned to values enclosed by brackets (`[]`)."
   ]
  },
  {
   "cell_type": "code",
   "execution_count": 3,
   "metadata": {},
   "outputs": [],
   "source": [
    "# List of files names to read in the same directory\n",
    "stories = [\"/story-1.txt\", \"/story-2.txt\", \"/story-3.txt\", \"/story-4.txt\"]"
   ]
  },
  {
   "cell_type": "markdown",
   "metadata": {},
   "source": [
    "## Opening and Reading the text files\n",
    "We will now use a `for` loop to iterate over each text file name in our list `stories`.  <br> Within the try block, we will need to call `read()` on `fp` to read in values from the file. We then need to `close()` the `fp` variable. <br> In our `except` block, we check if any issues occur and if they do and if they do we print them to the screen."
   ]
  },
  {
   "cell_type": "code",
   "execution_count": 9,
   "metadata": {},
   "outputs": [],
   "source": [
    "# TODO - Fill in the list of story file names\n",
    "for s in stories:\n",
    "    # Declaring our data structures\n",
    "    words = []\n",
    "    count_of_each_word = {}\n",
    "    try:\n",
    "        # Opening the file\n",
    "        with open(path + s, encoding='utf-8') as fp:\n",
    "            # TODO - Fill in the variable that represents the file we are working with\n",
    "            words = fp.read().lower().split() #split string into a list\n",
    "            \n",
    "            # TODO - Close the file\n",
    "            fp.close()\n",
    "    except Exception as e:\n",
    "        #If an exception occures, we print out the exception text to get a better idea of what happened.\n",
    "        print(\"Unable to open the file: \" + str(e))"
   ]
  },
  {
   "cell_type": "markdown",
   "metadata": {},
   "source": [
    "## Counting Words\n",
    "Now we can read the file, we want to count the words that we read into the `words` variable. <br>First, copy the completed code from the previous cell, and paste it into the top of the cell below as indicated by the comment.<br> Ensure the identation remains the same (the `for` loop for words should be nested in the `stories` `for` loop).<br> In the nested `for` loop, replace the `_` with the name of the variable that stores the words from the try statement.<br> <br>Next, we want to call `isalpha()` on `word` to check if the word only contains letters.<br> We then want to check if the word is already in our dictonary `count_of_each_word`.<br> If it is, then we want to increment the count of that entry by one. Else, we want to assign the word the value 1 in the same dictionary."
   ]
  },
  {
   "cell_type": "code",
   "execution_count": 10,
   "metadata": {},
   "outputs": [
    {
     "output_type": "stream",
     "name": "stdout",
     "text": [
      "Results of /story-1.txt\n{'the': 34, 'monkey': 10, 'and': 8, 'once': 1, 'upon': 1, 'a': 6, 'in': 2, 'there': 2, 'lived': 2, 'who': 1, 'resided': 1, 'on': 4, 'jamoon': 1, 'which': 1, 'was': 5, 'banks': 2, 'of': 3, 'same': 1, 'crocodile': 8, 'his': 6, 'one': 2, 'came': 2, 'to': 5, 'river': 1, 'rested': 1, 'under': 1, 'kindhearted': 1, 'offered': 1, 'him': 4, 'some': 2, 'back': 3, 'next': 1, 'day': 1, 'for': 4, 'more': 1, 'as': 3, 'he': 4, 'loved': 1, 'days': 1, 'passed': 1, 'became': 1, 'good': 1, 'sent': 1, 'fruits': 3, 'she': 3, 'ate': 1, 'liked': 1, 'but': 3, 'like': 2, 'her': 2, 'husband': 1, 'spending': 1, 'time': 1, 'with': 1, 'told': 2, 'are': 1, 'so': 2, 'i': 2, 'wonder': 1, 'how': 1, 'sweet': 1, 'heart': 3, 'would': 2, 'get': 2, 'me': 2, 'not': 1, 'willing': 1, 'kill': 1, 'had': 2, 'no': 1, 'invited': 1, 'house': 1, 'dinner': 1, 'that': 2, 'wife': 1, 'meet': 1, 'took': 2, 'happy': 1, 'tricked': 1, 'while': 1, 'blurted': 1, 'out': 1, 'real': 1, 'reason': 1, 'taking': 1, 'clever': 2, 'should': 1, 'have': 1, 'left': 1, 'my': 1, 'we': 1, 'must': 1, 'go': 1, 'believed': 1, 'saved': 1}\n----\nResults of /story-2.txt\n{'the': 23, 'musical': 1, 'donkey': 8, 'a': 7, 'washer': 1, 'would': 4, 'be': 1, 'free': 1, 'to': 8, 'graze': 1, 'on': 7, 'green': 1, 'after': 1, 'hard': 1, 'instead': 1, 'of': 2, 'staying': 1, 'he': 4, 'sneak': 1, 'into': 1, 'farms': 1, 'and': 13, 'eat': 2, 'vegetables': 1, 'before': 1, 'sneaking': 1, 'back': 1, 'met': 1, 'they': 3, 'became': 1, 'good': 1, 'decided': 1, 'hunt': 1, 'fat': 1, 'break': 1, 'fence': 1, 'while': 1, 'jackal': 5, 'hunted': 1, 'farm': 1, 'one': 1, 'told': 1, 'that': 2, 'felt': 1, 'like': 1, 'pleaded': 1, 'with': 1, 'him': 3, 'not': 1, 'as': 3, 'get': 2, 'got': 1, 'annoyed': 1, 'insisted': 1, 'opened': 1, 'his': 2, 'mouth': 1, 'began': 1, 'bray': 1, 'immediately': 1, 'ran': 1, 'hearing': 1, 'came': 1, 'rushing': 1, 'out': 2, 'thrashed': 1, 'for': 4, 'eating': 1, 'their': 3, 'farmers': 2, 'tied': 1, 'mortar': 1, 'walked': 1, 'joked': 1, 'about': 1, 'gifting': 1, 'necklace': 1, 'moral': 2, 'there': 1, 'is': 1, 'time': 1, 'place': 1, 'you': 1, 'can': 4, 'narrate': 1, 'these': 4, 'panchatantra': 2, 'stories': 3, 'explain': 1, 'values': 1, 'intelligence': 1, 'other': 2, 'make': 1, 'children': 1, 'understand': 1, 'what': 1, 'morals': 1, 'stand': 1, 'impact': 1, 'daily': 1, 'also': 1, 'help': 1, 'in': 1, 'your': 3, 'linguistic': 1, 'cognitive': 1, 'further': 1, 'develop': 1, 'activity': 1, 'subscription': 1, 'kit': 1, 'contains': 1, 'fun': 1, 'interesting': 1, 'by': 1, 'trying': 1, 'child': 1, 'enhance': 1, 'skills': 1}\n----\nResults of /story-3.txt\n{'a': 4, 'tale': 1, 'of': 4, 'three': 2, 'fish': 8, 'in': 2, 'there': 1, 'were': 2, 'who': 1, 'great': 1, 'the': 16, 'first': 3, 'was': 2, 'very': 1, 'second': 3, 'one': 3, 'knew': 1, 'how': 1, 'to': 6, 'find': 2, 'his': 2, 'way': 2, 'out': 3, 'and': 9, 'third': 3, 'adamant': 1, 'hated': 1, 'overheard': 1, 'conversation': 1, 'about': 1, 'coming': 1, 'back': 1, 'next': 2, 'day': 1, 'fishing': 1, 'sensing': 1, 'he': 1, 'cautioned': 1, 'friends': 1, 'move': 2, 'will': 2, 'stay': 1, 'here': 1, 'if': 2, 'do': 1, 'not': 1, 'want': 1, 'i': 3, 'remain': 1, 'have': 1, 'get': 1, 'moved': 1, 'fisherman': 1, 'arrived': 1, 'caught': 2, 'other': 1, 'two': 1, 'cleverly': 1, 'escaped': 1, 'by': 1, 'pretending': 1, 'be': 2, 'did': 1, 'nothing': 1, 'got': 1, 'moral': 1, 'should': 1, 'always': 1, 'open': 1, 'change': 1, 'adapt': 1, 'take': 1, 'immediate': 1, 'action': 1, 'when': 1, 'you': 1, 'sense': 1}\n----\nResults of /story-4.txt\n{'the': 27, 'foolish': 1, 'lion': 9, 'and': 8, 'clever': 1, 'rabbit': 6, 'once': 1, 'upon': 1, 'a': 3, 'there': 1, 'lived': 1, 'greedy': 1, 'who': 1, 'attacked': 2, 'killed': 1, 'because': 1, 'of': 4, 'which': 1, 'every': 1, 'animal': 2, 'in': 2, 'jungle': 1, 'was': 4, 'very': 1, 'afraid': 1, 'one': 2, 'they': 2, 'decided': 2, 'that': 2, 'each': 1, 'would': 1, 'go': 1, 'to': 9, 'per': 1, 'as': 2, 'his': 4, 'when': 1, 'it': 1, 'send': 1, 'wise': 3, 'old': 2, 'he': 2, 'travelled': 1, 'slowly': 1, 'reached': 1, 'den': 1, 'before': 1, 'furiously': 1, 'asked': 2, 'are': 1, 'you': 1, 'so': 1, 'group': 1, 'rabbits': 1, 'were': 2, 'coming': 1, 'but': 1, 'on': 2, 'their': 1, 'others': 1, 'by': 1, 'another': 1, 'ferocious': 1, 'i': 1, 'managed': 1, 'escape': 1, 'came': 1, 'also': 1, 'mentioned': 1, 'other': 2, 'challenging': 1, 'this': 2, 'extremely': 1, 'angry': 1, 'take': 1, 'him': 2, 'meet': 1, 'new': 1, 'took': 1, 'deep': 1, 'showed': 1, 'own': 1, 'reflection': 2, 'did': 1, 'considered': 1, 'be': 1, 'enraged': 1, 'jumped': 1, 'into': 1, 'well': 1, 'attack': 1, 'ended': 1, 'up': 1, 'saved': 1, 'all': 1, 'animals': 1, 'moral': 1, 'must': 1, 'always': 1, 'focus': 1, 'rather': 1, 'than': 1}\n----\n"
     ]
    }
   ],
   "source": [
    "# TODO - Paste the completed code from the previous code cell here\n",
    "for s in stories:\n",
    "    # Declaring our data structures\n",
    "    words = []\n",
    "    count_of_each_word = {}\n",
    "    try:\n",
    "        # Opening the file\n",
    "        with open(path + s, encoding='utf-8') as fp:\n",
    "            # TODO - Fill in the variable that represents the file we are working with\n",
    "            words = fp.read().lower().split()\n",
    "            # TODO - Close the file\n",
    "            fp.close()\n",
    "    except Exception as e:\n",
    "        #If an exception occures, we print out the exception text to get a better idea of what happened.\n",
    "        print(\"Unable to open the file: \" + str(e))\n",
    "\n",
    "    # TODO - make the below for loop iterate over each word in our \n",
    "    #        list created in the previous code cell\n",
    "    for word in words:\n",
    "        # TODO - call the isAlpha function on word\n",
    "\n",
    "        if word.isalpha() == True:\n",
    "            # TODO - Check if word is already included in our dictionary\n",
    "            if(word in count_of_each_word):\n",
    "                # TODO - Incriment the count that is held in the dictionary for the key word\n",
    "                count_of_each_word[word] += 1\n",
    "            else:\n",
    "                # TODO - else, we want to create a new entry for the word \n",
    "                #        and assign it's value to one for that key value in the dictionary\n",
    "                count_of_each_word[word] = 1\n",
    "\n",
    "    # Finally printing all the words on console\n",
    "    print(\"Results of \" + s)\n",
    "    print(count_of_each_word)\n",
    "    print(\"----\")"
   ]
  },
  {
   "cell_type": "markdown",
   "metadata": {},
   "source": [
    "And there you have it! Submit the completed version of the guide on canvas for your homework's hybrid componenet for points."
   ]
  },
  {
   "cell_type": "code",
   "execution_count": null,
   "metadata": {},
   "outputs": [],
   "source": []
  }
 ],
 "metadata": {
  "kernelspec": {
   "display_name": "Python 3",
   "language": "python",
   "name": "python3"
  },
  "language_info": {
   "codemirror_mode": {
    "name": "ipython",
    "version": 3
   },
   "file_extension": ".py",
   "mimetype": "text/x-python",
   "name": "python",
   "nbconvert_exporter": "python",
   "pygments_lexer": "ipython3",
   "version": "3.7.3-final"
  }
 },
 "nbformat": 4,
 "nbformat_minor": 4
}